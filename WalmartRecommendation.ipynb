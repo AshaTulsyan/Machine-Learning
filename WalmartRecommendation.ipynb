{
 "cells": [
  {
   "cell_type": "code",
   "execution_count": 1,
   "metadata": {
    "collapsed": true
   },
   "outputs": [],
   "source": [
    "import csv\n",
    "from collections import defaultdict\n",
    "import numpy as np\n",
    "import sklearn\n",
    "import matplotlib.pyplot as plt\n",
    "from sklearn.metrics import mean_squared_error\n",
    "from sklearn.ensemble import GradientBoostingClassifier\n",
    "from sklearn.svm import LinearSVR\n",
    "import scipy"
   ]
  },
  {
   "cell_type": "markdown",
   "metadata": {},
   "source": [
    "# Reading from Features"
   ]
  },
  {
   "cell_type": "code",
   "execution_count": 2,
   "metadata": {},
   "outputs": [
    {
     "name": "stdout",
     "output_type": "stream",
     "text": [
      "[42.31, 2.572, 0.0, 0.0, 0.0, 0.0, 0.0, 211.0963582, 8.106, False]\n"
     ]
    }
   ],
   "source": [
    "\n",
    "store_features = defaultdict(list)\n",
    "cpi_sum = 0.0\n",
    "cpi_count = 0.0\n",
    "unemp_sum = 0.0\n",
    "unemp_count = 0.0\n",
    "date_map = defaultdict(int)\n",
    "with open(\"C:/Users/asha/Desktop/CSE 258/Assignment 2/features.csv\",\"rbU\") as csvfile:\n",
    "    reader = csv.reader(csvfile, delimiter=' ', quotechar='|')\n",
    "    firstrow = True\n",
    "    for row in reader:\n",
    "        if firstrow:\n",
    "            firstrow = False\n",
    "            continue\n",
    "        s = ''.join(row)\n",
    "        l = s.split(',')\n",
    "        store = l[0]\n",
    "        l[2] = float(l[2])\n",
    "        l[3] = float(l[3])\n",
    "        if l[4]=='NA':\n",
    "            l[4] = 0.0\n",
    "        if l[5]=='NA':\n",
    "            l[5] = 0.0\n",
    "        if l[6]=='NA':\n",
    "            l[6] = 0.0\n",
    "        if l[7]=='NA':\n",
    "            l[7] = 0.0\n",
    "        if l[8]=='NA':\n",
    "            l[8] = 0.0\n",
    "        try:\n",
    "            cpi_sum+=float(l[9])\n",
    "            cpi_count+=1\n",
    "        except:\n",
    "            pass\n",
    "        try:\n",
    "            unemp_sum += float(l[10])\n",
    "            unemp_count+=1\n",
    "        except:\n",
    "            pass\n",
    "        if l[11] == 'FALSE':\n",
    "            l[11] = False\n",
    "        elif l[11] == 'TRUE':\n",
    "            l[11] = True\n",
    "        store_features[store].append(l[1:])\n",
    "\n",
    "cpi_avg = cpi_sum/cpi_count\n",
    "unemp_avg = unemp_sum/unemp_count\n",
    "\n",
    "for s in store_features:\n",
    "    count = 1\n",
    "    for f in store_features[s]:\n",
    "        if f[8] == 'NA':\n",
    "            f[8] = cpi_avg\n",
    "        else:\n",
    "            f[8] = float(f[8])\n",
    "        if f[9] == 'NA':\n",
    "            f[9] = unemp_avg\n",
    "        else:\n",
    "            f[9] = float(f[9])\n",
    "        date_map[f[0]] = count\n",
    "        f[0] = \"W\" + str(count)\n",
    "        count+=1\n",
    "\n",
    "features = defaultdict(dict)\n",
    "for s in store_features:\n",
    "    for f in store_features[s]:\n",
    "        features[s][f[0]] = f[1:]\n",
    "print features['1']['W1']"
   ]
  },
  {
   "cell_type": "markdown",
   "metadata": {},
   "source": [
    "# Reading from Stores"
   ]
  },
  {
   "cell_type": "code",
   "execution_count": 3,
   "metadata": {
    "collapsed": true
   },
   "outputs": [],
   "source": [
    "store_type = defaultdict()\n",
    "store_size = defaultdict(int)\n",
    "with open(\"C:/Users/krish/Desktop/CSE 258/Assignment 2/stores.csv\",\"rbU\") as csvfile:\n",
    "    reader = csv.reader(csvfile, delimiter=' ', quotechar='|')\n",
    "    firstrow = True\n",
    "    for row in reader:\n",
    "        if firstrow:\n",
    "            firstrow = False\n",
    "            continue\n",
    "        s = ''.join(row)\n",
    "        l = s.split(',')\n",
    "        store = (l[0])\n",
    "        store_type[store] = l[1]\n",
    "        store_size[store] = l[2]"
   ]
  },
  {
   "cell_type": "markdown",
   "metadata": {},
   "source": [
    "# Reading from Train Data"
   ]
  },
  {
   "cell_type": "code",
   "execution_count": 32,
   "metadata": {},
   "outputs": [
    {
     "name": "stdout",
     "output_type": "stream",
     "text": [
      "421570\n",
      "140523\n"
     ]
    }
   ],
   "source": [
    "\n",
    "\n",
    "data = []\n",
    "with open(\"C:/Users/krish/Desktop/CSE 258/Assignment 2/train.csv\",\"rbU\") as csvfile:\n",
    "    reader = csv.reader(csvfile, delimiter=' ', quotechar='|')\n",
    "    firstrow = True\n",
    "    for row in reader:\n",
    "        if firstrow:\n",
    "            firstrow = False\n",
    "            continue\n",
    "        s = ''.join(row)\n",
    "        l = s.split(',')\n",
    "        l[3] = float(l[3])\n",
    "        l[2] = \"W\" + str(date_map[l[2]])\n",
    "        l[0] = int(l[0])\n",
    "        l[1] = int(l[1])\n",
    "        if l[4] == 'TRUE':\n",
    "            l[4] = True\n",
    "            weight = 5\n",
    "        elif l[4] == 'FALSE':\n",
    "            l[4] = False\n",
    "            weight = 1\n",
    "        l.append(weight)\n",
    "        data.append(l)\n",
    "\n",
    "from random import shuffle\n",
    "shuffle(data)\n",
    "size = (len(data))\n",
    "training = data[:size/3]\n",
    "validation = data[size/3:(2*size)/3]\n",
    "testing = data[2*(size)/3:]\n",
    "print len(data)\n",
    "print len(training)"
   ]
  },
  {
   "cell_type": "code",
   "execution_count": 5,
   "metadata": {
    "collapsed": true
   },
   "outputs": [],
   "source": [
    "sum_sales_per_store = defaultdict(float)\n",
    "count_sales_per_store = defaultdict(float)\n",
    "for d in training:\n",
    "    store = int(d[0])\n",
    "    sum_sales_per_store[store]+=float(d[3])\n",
    "    count_sales_per_store[store] += 1\n",
    "avg_sales_per_store = defaultdict(float)\n",
    "for store in sum_sales_per_store:\n",
    "    avg_sales_per_store[store] = sum_sales_per_store[store]/count_sales_per_store[store]"
   ]
  },
  {
   "cell_type": "code",
   "execution_count": 6,
   "metadata": {
    "collapsed": true
   },
   "outputs": [],
   "source": [
    "sum_sales_per_dept = defaultdict(float)\n",
    "count_sales_per_dept = defaultdict(float)\n",
    "for d in training:\n",
    "    dept = int(d[1])\n",
    "    sum_sales_per_dept[dept]+=float(d[3])\n",
    "    count_sales_per_dept[dept] += 1\n",
    "avg_sales_per_dept = defaultdict(float)\n",
    "for dept in sum_sales_per_dept:\n",
    "    avg_sales_per_dept[dept] = sum_sales_per_dept[dept]/count_sales_per_dept[dept]"
   ]
  },
  {
   "cell_type": "code",
   "execution_count": 7,
   "metadata": {
    "collapsed": true
   },
   "outputs": [],
   "source": [
    "sum_sales_per_week = defaultdict(float)\n",
    "count_sales_per_week = defaultdict(float)\n",
    "for d in training:\n",
    "    week = d[2]\n",
    "    sum_sales_per_week[week]+=float(d[3])\n",
    "    count_sales_per_week[week] += 1\n",
    "avg_sales_per_week = defaultdict(float)\n",
    "for week in sum_sales_per_week:\n",
    "    avg_sales_per_week[week] = sum_sales_per_week[week]/count_sales_per_week[week]"
   ]
  },
  {
   "cell_type": "markdown",
   "metadata": {},
   "source": [
    "# Plotting"
   ]
  },
  {
   "cell_type": "code",
   "execution_count": 66,
   "metadata": {
    "collapsed": true
   },
   "outputs": [],
   "source": [
    "store_dept = defaultdict(dict)\n",
    "for d in data:\n",
    "    store = d[0]\n",
    "    dept = d[1]\n",
    "    store_dept[store][dept] = d[2:]\n",
    "\n",
    "\n",
    "\n",
    "store_sales = defaultdict(list)\n",
    "for s in store_dept:\n",
    "    for d in store_dept[s]:\n",
    "        store_sales[s].append(store_dept[s][d][1])\n",
    "\n",
    "        \n",
    "dept_sales = defaultdict(list)\n",
    "for s in store_dept:\n",
    "    for d in store_dept[s]:\n",
    "        dept_sales[d].append(store_dept[s][d][1])"
   ]
  },
  {
   "cell_type": "code",
   "execution_count": 67,
   "metadata": {},
   "outputs": [
    {
     "name": "stdout",
     "output_type": "stream",
     "text": [
      "Stores v/s Std. Dev. of Store Sales\n"
     ]
    },
    {
     "data": {
      "image/png": "[encoded data removed]",
      "text/plain": [
       "<matplotlib.figure.Figure at 0x1a410af0>"
      ]
     },
     "metadata": {},
     "output_type": "display_data"
    },
    {
     "name": "stdout",
     "output_type": "stream",
     "text": [
      "Depts v/s Std. Dev. of Dept Sales\n"
     ]
    },
    {
     "data": {
      "image/png": "[encoded data removed]",
      "text/plain": [
       "<matplotlib.figure.Figure at 0x14cf53d0>"
      ]
     },
     "metadata": {},
     "output_type": "display_data"
    }
   ],
   "source": [
    "print \"Stores v/s Std. Dev. of Store Sales\"\n",
    "store_list = []\n",
    "for s in store_sales:\n",
    "    if s not in store_list:\n",
    "        store_list.append(s)\n",
    "sales_list = []\n",
    "for s in store_list:\n",
    "    sales_list.append(np.std(store_sales[s]))\n",
    "plt.plot(store_list, sales_list, 'ro')\n",
    "plt.show()\n",
    "\n",
    "\n",
    "print \"Depts v/s Std. Dev. of Dept Sales\"\n",
    "dept_list = []\n",
    "for d in dept_sales:\n",
    "    if d not in dept_list:\n",
    "        dept_list.append(d)\n",
    "sales_list = []\n",
    "for d in dept_list:\n",
    "    sales_list.append(np.std(dept_sales[d]))\n",
    "plt.plot(dept_list, sales_list, 'ro')\n",
    "plt.show()"
   ]
  },
  {
   "cell_type": "code",
   "execution_count": 68,
   "metadata": {},
   "outputs": [
    {
     "name": "stdout",
     "output_type": "stream",
     "text": [
      "Stores v/s Sum of Store Sales\n"
     ]
    },
    {
     "data": {
      "image/png": "[encoded data removed]",
      "text/plain": [
       "<matplotlib.figure.Figure at 0x14d0cf70>"
      ]
     },
     "metadata": {},
     "output_type": "display_data"
    },
    {
     "name": "stdout",
     "output_type": "stream",
     "text": [
      "Depts v/s Sum of Dept Sales\n"
     ]
    },
    {
     "data": {
      "image/png": "[encoded data removed]",
      "text/plain": [
       "<matplotlib.figure.Figure at 0x18a813f0>"
      ]
     },
     "metadata": {},
     "output_type": "display_data"
    }
   ],
   "source": [
    "print \"Stores v/s Sum of Store Sales\"\n",
    "store_list = []\n",
    "for s in store_sales:\n",
    "    if s not in store_list:\n",
    "        store_list.append(s)\n",
    "sales_list = []\n",
    "for s in store_list:\n",
    "    sales_list.append(np.sum(store_sales[s]))\n",
    "plt.plot(store_list, sales_list, 'ro')\n",
    "plt.show()\n",
    "\n",
    "\n",
    "print \"Depts v/s Sum of Dept Sales\"\n",
    "dept_list = []\n",
    "for d in dept_sales:\n",
    "    if d not in dept_list:\n",
    "        dept_list.append(d)\n",
    "sales_list = []\n",
    "for d in dept_list:\n",
    "    sales_list.append(np.sum(dept_sales[d]))\n",
    "plt.plot(dept_list, sales_list, 'ro')\n",
    "plt.show()"
   ]
  },
  {
   "cell_type": "markdown",
   "metadata": {},
   "source": [
    "# Linear Regression with Gradient Descent"
   ]
  },
  {
   "cell_type": "code",
   "execution_count": 8,
   "metadata": {},
   "outputs": [
    {
     "name": "stdout",
     "output_type": "stream",
     "text": [
      "[ -3.11992034e+04   9.75416355e-01   1.02209852e+00   9.27235689e-01\n",
      "  -1.12502352e+01   1.07639096e+02  -4.14763015e+00  -1.22355899e+02\n",
      "   4.18477759e-01   1.85035126e-02]\n",
      "[1, 13808.248126747452, 30567.844710245725, 14940.742930000008, 49.04, 2.844, 135.6682247, 9.262, 1.0, 103681]\n"
     ]
    }
   ],
   "source": [
    "def feature(d):\n",
    "    feat = [1]\n",
    "    store = str(d[0])\n",
    "    feat.append(avg_sales_per_store[int(store)])\n",
    "    dept = str(d[1])\n",
    "    feat.append(avg_sales_per_dept[int(dept)])\n",
    "    week = str(d[2])\n",
    "    feat.append(avg_sales_per_week[week])\n",
    "    for i in range(0,2):\n",
    "        feat.append(float(features[store][week][i]))\n",
    "    for i in range(7,9):\n",
    "        feat.append(float(features[store][week][i]))\n",
    "    if (d[4] == True):\n",
    "        feat.append(5.0)\n",
    "    elif (d[4] == False):\n",
    "        feat.append(1.0)\n",
    "    feat.append(int(store_size[store]))\n",
    "    return feat\n",
    "\n",
    "\n",
    "X = [feature(d) for d in training]\n",
    "y = [float(d[3]) for d in training]\n",
    "theta,residuals,rank,s = np.linalg.lstsq(X, y)\n",
    "print theta\n",
    "\n",
    "\"\"\"\n",
    "Notes:-\n",
    "\n",
    "1. First we simply tried linear regression with least squares, got a bad WMAE value of ~15000\n",
    "2. Implemented gradient descent to optimize the regression, found the best value for lambda = 0.1 on the\n",
    "validation set for the best WMAE value of ~11000\n",
    "3. First we tried using just store and dept values as integers into the feature vector\n",
    "4. Tried using each store's sales average, each dept's sales average, each week's sales average into the feature vector,\n",
    "got a much better WMAE value of 8400, as given below\n",
    "\n",
    "\"\"\";\n",
    "print X[0]"
   ]
  },
  {
   "cell_type": "markdown",
   "metadata": {},
   "source": [
    "# Testing on validation data"
   ]
  },
  {
   "cell_type": "code",
   "execution_count": 9,
   "metadata": {},
   "outputs": [
    {
     "name": "stdout",
     "output_type": "stream",
     "text": [
      "WMAE -  9282.76584594 Lam -  1e-05\n",
      "WMAE -  9277.14745565 Lam -  0.0001\n",
      "WMAE -  9277.15345007 Lam -  0.001\n",
      "WMAE -  9277.1470032 Lam -  0.01\n",
      "WMAE -  9277.240136 Lam -  0.1\n",
      "WMAE -  9277.14345325 Lam -  1\n",
      "WMAE -  9308.42042669 Lam -  10\n",
      "WMAE -  9308.40546244 Lam -  100\n",
      "WMAE -  9274.65352269 Lam -  1000\n",
      "WMAE -  9334.28410664 Lam -  10000\n",
      "140523\n"
     ]
    }
   ],
   "source": [
    "### Gradient descent ###\n",
    "import scipy\n",
    "import numpy\n",
    "# Objective\n",
    "def f(theta, X, y, lam):\n",
    "    theta = numpy.matrix(theta).T\n",
    "    X = numpy.matrix(X)\n",
    "    y = numpy.matrix(y).T\n",
    "    diff = X*theta - y\n",
    "    diffSq = diff.T*diff\n",
    "    diffSqReg = diffSq / len(X) + lam*(theta.T*theta)\n",
    "    return diffSqReg.flatten().tolist()[0]\n",
    "\n",
    "# Derivative\n",
    "def fprime(theta, X, y, lam):\n",
    "    theta = numpy.matrix(theta).T\n",
    "    X = numpy.matrix(X)\n",
    "    y = numpy.matrix(y).T\n",
    "    diff = X*theta - y\n",
    "    res = 2*X.T*diff / len(X) + 2*lam*theta\n",
    "    return numpy.array(res.flatten().tolist()[0])\n",
    "\n",
    "X = [feature(d) for d in validation]\n",
    "y = [float(d[3]) for d in validation]\n",
    "lam = [0.00001, 0.0001, 0.001, 0.01, 0.1, 1, 10, 100, 1000, 10000]\n",
    "for lamb in lam:\n",
    "    theta, l, info = scipy.optimize.fmin_l_bfgs_b(f, theta, fprime, args = (X, y, lamb))\n",
    "    predictions = []\n",
    "    for i in range(len(validation)):\n",
    "        predictions.append(np.dot(X[i], theta))\n",
    "    sum = 0.0\n",
    "    weight_sum = 0.0\n",
    "    for i in range(len(validation)):\n",
    "        sum += validation[i][4]*(abs(y[i] - predictions[i]))\n",
    "        weight_sum += validation[i][4]\n",
    "    print \"WMAE - \", sum/weight_sum, \"Lam - \", lamb\n",
    "print len(predictions)"
   ]
  },
  {
   "cell_type": "markdown",
   "metadata": {},
   "source": [
    "# Testing on test set"
   ]
  },
  {
   "cell_type": "code",
   "execution_count": 10,
   "metadata": {},
   "outputs": [
    {
     "name": "stdout",
     "output_type": "stream",
     "text": [
      "WMAE -  9614.77679246 Lam -  10\n"
     ]
    }
   ],
   "source": [
    "### Gradient descent ###\n",
    "import scipy\n",
    "import numpy\n",
    "# Objective\n",
    "def f(theta, X, y, lam):\n",
    "    theta = numpy.matrix(theta).T\n",
    "    X = numpy.matrix(X)\n",
    "    y = numpy.matrix(y).T\n",
    "    diff = X*theta - y\n",
    "    diffSq = diff.T*diff\n",
    "    diffSqReg = diffSq / len(X) + lam*(theta.T*theta)\n",
    "    return diffSqReg.flatten().tolist()[0]\n",
    "\n",
    "# Derivative\n",
    "def fprime(theta, X, y, lam):\n",
    "    theta = numpy.matrix(theta).T\n",
    "    X = numpy.matrix(X)\n",
    "    y = numpy.matrix(y).T\n",
    "    diff = X*theta - y\n",
    "    res = 2*X.T*diff / len(X) + 2*lam*theta\n",
    "    return numpy.array(res.flatten().tolist()[0])\n",
    "\n",
    "X = [feature(d) for d in testing]\n",
    "y = [float(d[3]) for d in testing]\n",
    "lam = [10]\n",
    "for lamb in lam:\n",
    "    theta, l, info = scipy.optimize.fmin_l_bfgs_b(f, theta, fprime, args = (X, y, lamb))\n",
    "    predictions = []\n",
    "    for i in range(len(testing)):\n",
    "        predictions.append(np.dot(X[i], theta))\n",
    "    sum = 0.0\n",
    "    weight_sum = 0.0\n",
    "    for i in range(len(testing)):\n",
    "        sum += testing[i][4]*(abs(y[i] - predictions[i]))\n",
    "        weight_sum += testing[i][4]\n",
    "    print \"WMAE - \", sum/weight_sum, \"Lam - \", lamb\n",
    "\n",
    "    \n",
    "\"\"\"\n",
    "WMAE -  9325.27779955 Lam -  1e-05\n",
    "WMAE -  9325.26209252 Lam -  0.0001\n",
    "WMAE -  9325.27827606 Lam -  0.001\n",
    "WMAE -  9325.27388634 Lam -  0.01\n",
    "WMAE -  9325.28189853 Lam -  0.1\n",
    "WMAE -  9385.63392648 Lam -  1\n",
    "WMAE -  9385.60441546 Lam -  10\n",
    "WMAE -  9304.87674921 Lam -  100\n",
    "WMAE -  9321.49523211 Lam -  1000\n",
    "WMAE -  9437.64502263 Lam -  10000\n",
    "\"\"\";"
   ]
  },
  {
   "cell_type": "markdown",
   "metadata": {},
   "source": [
    "# SVR"
   ]
  },
  {
   "cell_type": "code",
   "execution_count": 38,
   "metadata": {},
   "outputs": [
    {
     "name": "stdout",
     "output_type": "stream",
     "text": [
      "[ -0.26276978   0.37998998   0.9238341   -0.29738147 -10.85260853\n",
      "  -0.98086926 -13.83078473  -2.89089279  -0.13567423   0.01569583]\n",
      "WMAE -  8899.97839481\n"
     ]
    }
   ],
   "source": [
    "X = [feature(d) for d in training]\n",
    "y = [float(d[3]) for d in training]\n",
    "regr = LinearSVR(C=0.0001, random_state = 0)\n",
    "regr.fit(X,y)\n",
    "print regr.coef_\n",
    "X = [feature(d) for d in testing]\n",
    "y = [float(d[3]) for d in testing]\n",
    "theta = regr.coef_\n",
    "predictions = []\n",
    "for i in range(len(testing)):\n",
    "    predictions.append(np.dot(X[i], theta))\n",
    "sum = 0.0\n",
    "weight_sum = 0.0\n",
    "for i in range(len(testing)):\n",
    "    sum += testing[i][4]*(abs(y[i] - predictions[i]))\n",
    "    weight_sum += testing[i][4]\n",
    "print \"WMAE - \", sum/weight_sum\n",
    "\n",
    "\n",
    "\"\"\"\n",
    "Got the best values for C = 0.0001, WMAE of ~8100\n",
    "[ -3.53683268e-01   3.23836143e-01   8.91529556e-01  -1.79479317e-01\n",
    "  -6.59431761e+00  -1.33874507e+00  -2.01539405e+01  -2.58229013e+00\n",
    "   7.54292063e-03   2.92419258e-02]\n",
    "WMAE -  8580.1204139\n",
    "\"\"\";"
   ]
  },
  {
   "cell_type": "markdown",
   "metadata": {},
   "source": [
    "# Random Forest Regressor"
   ]
  },
  {
   "cell_type": "code",
   "execution_count": 39,
   "metadata": {
    "collapsed": true
   },
   "outputs": [],
   "source": [
    "from sklearn.ensemble import RandomForestRegressor\n",
    "X = [feature(d) for d in training]\n",
    "y = [float(d[3]) for d in training]\n",
    "regr = RandomForestRegressor(n_estimators=30).fit(X, y)\n",
    "\n",
    "\"\"\"\n",
    "Tried changing criterion value to 'mae' instead of 'mse', taking too long for training\n",
    "Tried using 50 trees, memory error\n",
    "Using 30 trees still gave WMAE of ~11212\n",
    "\"\"\";"
   ]
  },
  {
   "cell_type": "code",
   "execution_count": 40,
   "metadata": {},
   "outputs": [
    {
     "name": "stdout",
     "output_type": "stream",
     "text": [
      "[ 0.          0.23652048  0.63366722  0.03143035  0.01453601  0.00853457\n",
      "  0.01598205  0.01218773  0.00232486  0.04481672]\n",
      "WMAE -  11551.196416\n"
     ]
    }
   ],
   "source": [
    "print regr.feature_importances_\n",
    "X = [feature(d) for d in testing]\n",
    "y = [float(d[3]) for d in testing]\n",
    "theta = regr.feature_importances_\n",
    "predictions = []\n",
    "for i in range(len(testing)):\n",
    "    predictions.append(np.dot(X[i], theta))\n",
    "sum = 0.0\n",
    "weight_sum = 0.0\n",
    "for i in range(len(testing)):\n",
    "    sum += X[i][8]*(abs(y[i] - predictions[i]))\n",
    "    weight_sum += X[i][8]\n",
    "print \"WMAE - \", sum/weight_sum\n",
    "\n",
    "\"\"\"\n",
    "[ 0.          0.26448921  0.63655105  0.03061003  0.011821    0.00669866\n",
    "  0.01812739  0.00966677  0.00224206  0.01979383]\n",
    "WMAE -  8437.19908495\n",
    "\"\"\";"
   ]
  },
  {
   "cell_type": "markdown",
   "metadata": {},
   "source": [
    "# Gradient Boosting"
   ]
  },
  {
   "cell_type": "code",
   "execution_count": 41,
   "metadata": {},
   "outputs": [
    {
     "name": "stdout",
     "output_type": "stream",
     "text": [
      "[ 0.    0.19  0.63  0.11  0.    0.    0.01  0.    0.    0.06]\n",
      "WMAE -  13147.7623221\n"
     ]
    }
   ],
   "source": [
    "from sklearn.ensemble import GradientBoostingRegressor\n",
    "X = [feature(d) for d in training]\n",
    "y = [float(d[3]) for d in training]\n",
    "regr = GradientBoostingRegressor(n_estimators=100, learning_rate=1.0, max_depth=1, random_state=0).fit(X, y)\n",
    "print regr.feature_importances_\n",
    "X = [feature(d) for d in testing]\n",
    "y = [float(d[3]) for d in testing]\n",
    "theta = regr.feature_importances_\n",
    "predictions = []\n",
    "for i in range(len(testing)):\n",
    "    predictions.append(np.dot(X[i], theta))\n",
    "sum = 0.0\n",
    "weight_sum = 0.0\n",
    "for i in range(len(testing)):\n",
    "    sum += X[i][8]*(abs(y[i] - predictions[i]))\n",
    "    weight_sum += X[i][8]\n",
    "print \"WMAE - \", sum/weight_sum\n",
    "\n",
    "\"\"\"\n",
    "[ 0.    0.17  0.59  0.1   0.01  0.    0.04  0.05  0.    0.04]\n",
    "WMAE -  10040.500497\n",
    "\"\"\";"
   ]
  },
  {
   "cell_type": "markdown",
   "metadata": {},
   "source": [
    "# A different regression with gradient descent"
   ]
  },
  {
   "cell_type": "code",
   "execution_count": 43,
   "metadata": {
    "collapsed": true
   },
   "outputs": [],
   "source": [
    "def new_feature(d):\n",
    "    feat = [1]\n",
    "    store = str(d[0])\n",
    "    #feat.append(avg_sales_per_store[int(store)])\n",
    "    dept = str(d[1])\n",
    "    feat.append(avg_sales_per_dept[int(dept)])\n",
    "    week = str(d[2])\n",
    "    feat.append(avg_sales_per_week[week])\n",
    "    for i in range(0,2):\n",
    "        feat.append(float(features[store][week][i]))\n",
    "    for i in range(7,9):\n",
    "        feat.append(float(features[store][week][i]))\n",
    "    if (d[4] == True):\n",
    "        feat.append(5.0)\n",
    "    elif (d[4] == False):\n",
    "        feat.append(1.0)\n",
    "    #feat.append(int(store_size[store]))\n",
    "    return feat\n",
    "\n",
    "\n",
    "X = defaultdict(list)\n",
    "y = defaultdict(list)\n",
    "for d in training:\n",
    "    store = str(d[0])\n",
    "    X[store].append(new_feature(d))\n",
    "    y[store].append(float(d[3]))\n",
    "theta = defaultdict(float)\n",
    "residuals = defaultdict(float)\n",
    "rank = defaultdict(float)\n",
    "s = defaultdict(float)\n",
    "for store in X:\n",
    "    theta[store],residuals[store],rank[store],s[store] = np.linalg.lstsq(X[store], y[store])\n",
    "\n",
    "\"\"\"\n",
    "Finding theta vectors for each store\n",
    "\"\"\";"
   ]
  },
  {
   "cell_type": "code",
   "execution_count": 44,
   "metadata": {},
   "outputs": [
    {
     "name": "stdout",
     "output_type": "stream",
     "text": [
      "8\n",
      "WMAE -  5870.01890535 Lambda -  10\n"
     ]
    }
   ],
   "source": [
    "l = defaultdict(float)\n",
    "info = defaultdict(float)\n",
    "sums = 0.0\n",
    "weight_sum = 0.0\n",
    "for store in X:\n",
    "    theta[store], l[store], info[store] = scipy.optimize.fmin_l_bfgs_b(f, theta[store], fprime, args = (X[store], y[store], 1000.0))\n",
    "print len(theta[store])\n",
    "X = defaultdict(list)\n",
    "y = defaultdict(list)\n",
    "for d in testing:\n",
    "    store = str(d[0])\n",
    "    X[store].append(new_feature(d))\n",
    "    y[store].append(float(d[3]))\n",
    "for store in X:\n",
    "    predictions = []\n",
    "    for i in range(len(X[store])):\n",
    "        predictions.append(np.dot(X[store][i], theta[store]))    \n",
    "    for i in range(len(X[store])):\n",
    "        sums += X[store][i][7]*(abs(y[store][i] - predictions[i]))\n",
    "        weight_sum+=X[store][i][7]\n",
    "    \n",
    "print \"WMAE - \", sums/weight_sum, \"Lambda - \", lamb\n",
    "    \n",
    "\"\"\"\n",
    "With gradient descent\n",
    "For training\n",
    "WMAE -  5938.17339143 Lambda -  0.01\n",
    "WMAE -  5939.19054025 Lambda -  0.1\n",
    "WMAE -  5937.70460927 Lambda -  1.0\n",
    "WMAE -  5930.26456449 Lambda -  10.0\n",
    "WMAE -  5890.34802177 Lambda -  100.0\n",
    "WMAE -  5856.30677926 Lambda -  1000.0\n",
    "WMAE -  5892.4088813 Lambda -  10000.0\n",
    "WMAE -  5903.12423323 Lambda -  100000.0\n",
    "\n",
    "For testing\n",
    "WMAE -  5928.19278459 Lambda -  0.01\n",
    "WMAE -  5896.10807676 Lambda -  0.1\n",
    "WMAE -  5895.32661608 Lambda -  1.0\n",
    "WMAE -  5881.85735044 Lambda -  10.0\n",
    "WMAE -  5844.84786065 Lambda -  100.0\n",
    "WMAE -  5811.96001452 Lambda -  1000.0\n",
    "WMAE -  5848.48406612 Lambda -  10000.0\n",
    "WMAE -  5859.95295033 Lambda -  100000.0\n",
    "\"\"\";"
   ]
  },
  {
   "cell_type": "markdown",
   "metadata": {},
   "source": [
    "# SVR with the different regression model"
   ]
  },
  {
   "cell_type": "code",
   "execution_count": 45,
   "metadata": {},
   "outputs": [
    {
     "name": "stdout",
     "output_type": "stream",
     "text": [
      "WMAE -  5696.61749131\n"
     ]
    }
   ],
   "source": [
    "X = defaultdict(list)\n",
    "y = defaultdict(list)\n",
    "for d in training:\n",
    "    store = str(d[0])\n",
    "    X[store].append(new_feature(d))\n",
    "    y[store].append(float(d[3]))\n",
    "    \n",
    "theta = defaultdict(list)\n",
    "for store in X:\n",
    "    regr = LinearSVR(C=0.001, random_state = 0).fit(X[store],y[store])\n",
    "    theta[store] = regr.coef_\n",
    "\n",
    "X = defaultdict(list)\n",
    "y = defaultdict(list)\n",
    "for d in testing:\n",
    "    store = str(d[0])\n",
    "    X[store].append(new_feature(d))\n",
    "    y[store].append(float(d[3]))\n",
    "\n",
    "sums = 0.0\n",
    "weight_sum = 0.0\n",
    "for store in X:\n",
    "    predictions = []\n",
    "    for i in range(len(X[store])):\n",
    "        predictions.append(np.dot(X[store][i], theta[store]))    \n",
    "    for i in range(len(X[store])):\n",
    "        sums += X[store][i][7]*(abs(y[store][i] - predictions[i]))\n",
    "        weight_sum+=X[store][i][7]\n",
    "    \n",
    "print \"WMAE - \", sums/weight_sum\n",
    "\n",
    "\"\"\"\n",
    "WMAE -  5666.47689845 C = 0.001 \n",
    "\n",
    "\"\"\";"
   ]
  },
  {
   "cell_type": "markdown",
   "metadata": {},
   "source": [
    "# Randomized Forest with new different regression model"
   ]
  },
  {
   "cell_type": "code",
   "execution_count": 46,
   "metadata": {},
   "outputs": [
    {
     "name": "stdout",
     "output_type": "stream",
     "text": [
      "WMAE -  8772.19060056 Number of trees -  20\n"
     ]
    }
   ],
   "source": [
    "from sklearn.ensemble import RandomForestRegressor\n",
    "X = defaultdict(list)\n",
    "y = defaultdict(list)\n",
    "for d in training:\n",
    "    store = str(d[0])\n",
    "    X[store].append(new_feature(d))\n",
    "    y[store].append(float(d[3]))\n",
    "    \n",
    "    \n",
    "theta = defaultdict(list)\n",
    "n_estimators = 20\n",
    "for store in X:\n",
    "    regr = RandomForestRegressor(n_estimators).fit(X[store], y[store])\n",
    "    theta[store] = regr.feature_importances_\n",
    "\n",
    "X = defaultdict(list)\n",
    "y = defaultdict(list)\n",
    "for d in testing:\n",
    "    store = str(d[0])\n",
    "    X[store].append(new_feature(d))\n",
    "    y[store].append(float(d[3]))\n",
    "\n",
    "sums = 0.0\n",
    "weight_sum = 0.0\n",
    "for store in X:\n",
    "    predictions = []\n",
    "    for i in range(len(X[store])):\n",
    "        predictions.append(np.dot(X[store][i], theta[store]))    \n",
    "    for i in range(len(X[store])):\n",
    "        sums += X[store][i][7]*(abs(y[store][i] - predictions[i]))\n",
    "        weight_sum+=X[store][i][7]\n",
    "    \n",
    "print \"WMAE - \", sums/weight_sum, \"Number of trees - \", n_estimators\n",
    "\n",
    "\"\"\"\n",
    "WMAE -  8683.87033629 Number of trees -  10\n",
    "WMAE -  8685.98572569 Number of trees -  15\n",
    "WMAE -  8642.66585413 Number of trees -  20\n",
    "WMAE -  8680.07224405 Number of trees -  25\n",
    "WMAE -  8682.15372603 Number of trees -  30\n",
    "\n",
    "\n",
    "\"\"\";"
   ]
  },
  {
   "cell_type": "markdown",
   "metadata": {},
   "source": [
    "# Gradient boosting with the different regression model"
   ]
  },
  {
   "cell_type": "code",
   "execution_count": 48,
   "metadata": {},
   "outputs": [
    {
     "name": "stdout",
     "output_type": "stream",
     "text": [
      "WMAE -  8975.8959391 Number of estimators -  2000\n"
     ]
    }
   ],
   "source": [
    "from sklearn.ensemble import GradientBoostingRegressor\n",
    "X = defaultdict(list)\n",
    "y = defaultdict(list)\n",
    "for d in training:\n",
    "    store = str(d[0])\n",
    "    X[store].append(new_feature(d))\n",
    "    y[store].append(float(d[3]))\n",
    "    \n",
    "    \n",
    "theta = defaultdict(list)\n",
    "for store in X:\n",
    "    regr = GradientBoostingRegressor(n_estimators=2000, learning_rate=1.0, max_depth=1, random_state=0).fit(X[store], y[store])\n",
    "    theta[store] = regr.feature_importances_\n",
    "\n",
    "X = defaultdict(list)\n",
    "y = defaultdict(list)\n",
    "for d in testing:\n",
    "    store = str(d[0])\n",
    "    X[store].append(new_feature(d))\n",
    "    y[store].append(float(d[3]))\n",
    "\n",
    "sums = 0.0\n",
    "weight_sum = 0.0\n",
    "for store in X:\n",
    "    predictions = []\n",
    "    for i in range(len(X[store])):\n",
    "        predictions.append(np.dot(X[store][i], theta[store]))    \n",
    "    for i in range(len(X[store])):\n",
    "        sums += X[store][i][7]*(abs(y[store][i] - predictions[i]))\n",
    "        weight_sum+=X[store][i][7]\n",
    "    \n",
    "print \"WMAE - \", sums/weight_sum, \"Number of estimators - \", 2000\n",
    "\n",
    "\"\"\"\n",
    "WMAE -  8982.03326054 Number of estimators -  100\n",
    "WMAE -  8909.08430421 Number of estimators -  500\n",
    "WMAE -  8881.81158243 Number of estimators -  1000\n",
    "WMAE -  8852.61488388 Number of estimators -  2000\n",
    "WMAE -  8921.84083271 Number of estimators -  3000\n",
    "WMAE -  9274.11498777 Number of estimators -  10000\n",
    "\n",
    "\n",
    "\n",
    "\n",
    "\"\"\";"
   ]
  },
  {
   "cell_type": "markdown",
   "metadata": {},
   "source": [
    "# Yet Another Model"
   ]
  },
  {
   "cell_type": "code",
   "execution_count": 34,
   "metadata": {
    "collapsed": true
   },
   "outputs": [],
   "source": [
    "sum_sales_dept_store = defaultdict(lambda:defaultdict(float))\n",
    "count_sales_dept_store = defaultdict(lambda:defaultdict(float))\n",
    "avg_sales_dept_store = defaultdict(dict)\n",
    "for d in training:\n",
    "    store = int(d[0])\n",
    "    dept = int(d[1])\n",
    "    week = d[2]\n",
    "    sum_sales_dept_store[dept][store]+=(float(d[3]))\n",
    "    count_sales_dept_store[dept][store]+=1\n",
    "for dept in sum_sales_dept_store:\n",
    "    for store in sum_sales_dept_store[dept]:\n",
    "        avg_sales_dept_store[dept][store] = sum_sales_dept_store[dept][store]/count_sales_dept_store[dept][store]\n"
   ]
  },
  {
   "cell_type": "code",
   "execution_count": 35,
   "metadata": {},
   "outputs": [
    {
     "name": "stdout",
     "output_type": "stream",
     "text": [
      "[11, 99, 'W100', 250.0, True, 5]\n"
     ]
    }
   ],
   "source": [
    "sum_sales_dept_week = defaultdict(lambda:defaultdict(float))\n",
    "count_sales_dept_week = defaultdict(lambda:defaultdict(float))\n",
    "avg_sales_dept_week = defaultdict(dict)\n",
    "for d in training:\n",
    "    dept = int(d[1])\n",
    "    week = str(d[2])\n",
    "    sum_sales_dept_week[dept][week]+=(float(d[3]))\n",
    "    count_sales_dept_week[dept][week]+=1\n",
    "for dept in count_sales_dept_week:\n",
    "    for week in sum_sales_dept_week[dept]:\n",
    "        avg_sales_dept_week[dept][week] = sum_sales_dept_week[dept][week]/count_sales_dept_week[dept][week]\n",
    "\n",
    "print testing[0]"
   ]
  },
  {
   "cell_type": "code",
   "execution_count": 36,
   "metadata": {},
   "outputs": [
    {
     "name": "stdout",
     "output_type": "stream",
     "text": [
      "WMAE -  2177.04932136\n"
     ]
    }
   ],
   "source": [
    "sums = 0.0\n",
    "weight_sum = 0.0\n",
    "y = [float(d[3]) for d in testing]\n",
    "for i in range(len(testing)):\n",
    "    store = int(testing[i][0])\n",
    "    dept = int(testing[i][1])\n",
    "    week = str(testing[i][2])\n",
    "    try:\n",
    "        prediction = float(avg_sales_dept_week[dept][week]*avg_sales_dept_store[dept][store])/float(avg_sales_per_dept[dept])\n",
    "    except:\n",
    "        prediction = 0\n",
    "    sums += testing[i][5]*(abs(y[i] - prediction))\n",
    "    weight_sum += testing[i][5]\n",
    "print \"WMAE - \", sums/weight_sum\n",
    "\n",
    "\n",
    "\n",
    "\"\"\"\n",
    "Found that there is a huge variance in sales of department. Hence, we found that multuplying the average sales of\n",
    "every department store pair and the average sales of every department week pair, and dividing that product by the average \n",
    "sales of that department, we get the prediction for that given store-dept-week pair in the test set\n",
    "\n",
    "WMAE -  2404.50388805\n",
    "\"\"\";"
   ]
  },
  {
   "cell_type": "markdown",
   "metadata": {},
   "source": [
    "# Without CPI, Fuel Price, etc Model"
   ]
  },
  {
   "cell_type": "code",
   "execution_count": 23,
   "metadata": {
    "collapsed": true
   },
   "outputs": [],
   "source": [
    "def newer_feature(d):\n",
    "    feat = [1]\n",
    "    store = str(d[0])\n",
    "    #feat.append(avg_sales_per_store[int(store)])\n",
    "    dept = str(d[1])\n",
    "    feat.append(avg_sales_per_dept[int(dept)])\n",
    "    week = str(d[2])\n",
    "    feat.append(avg_sales_per_week[week])\n",
    "    \"\"\"for i in range(0,2):\n",
    "        feat.append(float(features[store][week][i]))\n",
    "    for i in range(7,9):\n",
    "        feat.append(float(features[store][week][i]))\"\"\"\n",
    "    weekid = int(week[1:])\n",
    "    if weekid == 2 or weekid == 54 or weekid == 106 or weekid == 158:\n",
    "        superbowl = 1.0\n",
    "    else:\n",
    "        superbowl = 0.0\n",
    "    if weekid == 32 or weekid == 84 or weekid == 136 or weekid == 188:\n",
    "        labor = 1.0\n",
    "    else:\n",
    "        labor = 0.0\n",
    "    if weekid == 43 or weekid == 95 or weekid == 147 or weekid == 199:\n",
    "        thanks = 1.0\n",
    "    else:\n",
    "        thanks = 0.0\n",
    "    if weekid == 48 or weekid == 100 or weekid == 152 or weekid == 204:\n",
    "        christmas = 1.0\n",
    "    else:\n",
    "        christmas = 0.0\n",
    "    feat.append(superbowl)\n",
    "    feat.append(labor)\n",
    "    feat.append(thanks)\n",
    "    feat.append(christmas)\n",
    "    if superbowl or labor or thanks or christmas:\n",
    "        feat.append(5.0)\n",
    "    else:\n",
    "        feat.append(1.0)\n",
    "    #feat.append(int(store_size[store]))\n",
    "    return feat\n",
    "\n",
    "X = defaultdict(list)\n",
    "y = defaultdict(list)\n",
    "for d in training:\n",
    "    store = str(d[0])\n",
    "    X[store].append(newer_feature(d))\n",
    "    y[store].append(float(d[3]))\n",
    "theta = defaultdict(float)\n",
    "residuals = defaultdict(float)\n",
    "rank = defaultdict(float)\n",
    "s = defaultdict(float)\n",
    "for store in X:\n",
    "    theta[store],residuals[store],rank[store],s[store] = np.linalg.lstsq(X[store], y[store])\n",
    "\n",
    "    \n",
    "\"\"\"\n",
    "Same as the second model, except we use a have features for whether Superbowl or not, whether Labor Day or not, whether\n",
    "Thanksgiving or not, and whether Christmas or not, appended with a weight feature that gives a weight of 5 if it's a\n",
    "holiday, and 1 if it's not.\n",
    "\"\"\";"
   ]
  },
  {
   "cell_type": "code",
   "execution_count": 24,
   "metadata": {},
   "outputs": [
    {
     "name": "stdout",
     "output_type": "stream",
     "text": [
      "WMAE -  5964.4099157 Lambda -  0.01\n",
      "WMAE -  6017.56706117 Lambda -  1.0\n",
      "WMAE -  5990.29591481 Lambda -  100.0\n",
      "WMAE -  5990.298544 Lambda -  1000.0\n",
      "WMAE -  5990.30651228 Lambda -  100000.0\n"
     ]
    }
   ],
   "source": [
    "l = defaultdict(float)\n",
    "info = defaultdict(float)\n",
    "lam = [0.01, 1.0, 100.0, 1000.0, 100000.0]\n",
    "for lamb in lam:\n",
    "    sums = 0.0\n",
    "    weight_sum = 0.0\n",
    "    for store in X:\n",
    "        theta[store], l[store], info[store] = scipy.optimize.fmin_l_bfgs_b(f, theta[store], fprime, args = (X[store], y[store], lamb))\n",
    "    X = defaultdict(list)\n",
    "    y = defaultdict(list)\n",
    "    for d in testing:\n",
    "        store = str(d[0])\n",
    "        X[store].append(newer_feature(d))\n",
    "        y[store].append(float(d[3]))\n",
    "    for store in X:\n",
    "        predictions = []\n",
    "        for i in range(len(X[store])):\n",
    "            predictions.append(np.dot(X[store][i], theta[store]))    \n",
    "        for i in range(len(X[store])):\n",
    "            sums += X[store][i][7]*(abs(y[store][i] - predictions[i]))\n",
    "            weight_sum+=X[store][i][7]\n",
    "    \n",
    "    print \"WMAE - \", sums/weight_sum, \"Lambda - \", lamb\n",
    "\n",
    "    \n",
    "    \n",
    "\"\"\"\n",
    "With gradient descent\n",
    "For training\n",
    "WMAE -  5900.2752475 Lambda -  0.01\n",
    "WMAE -  5900.94078585 Lambda -  0.1\n",
    "WMAE -  5893.17254454 Lambda -  1.0\n",
    "WMAE -  5909.52455386 Lambda -  10.0\n",
    "WMAE -  5951.00880391 Lambda -  100.0\n",
    "WMAE -  5900.15146793 Lambda -  1000.0\n",
    "WMAE -  5855.26887412 Lambda -  10000.0\n",
    "WMAE -  5850.29464915 Lambda -  100000.0\n",
    "\n",
    "For testing\n",
    "WMAE -  5610.26966813 Lambda -  0.01\n",
    "WMAE -  5584.99050598 Lambda -  0.1\n",
    "WMAE -  5567.3294319 Lambda -  1.0\n",
    "WMAE -  5539.63092139 Lambda -  10.0\n",
    "WMAE -  5589.86670649 Lambda -  100.0\n",
    "WMAE -  5568.56666398 Lambda -  1000.0\n",
    "WMAE -  5528.46859515 Lambda -  10000.0\n",
    "WMAE -  5523.6416248 Lambda -  100000.0\n",
    "\"\"\";"
   ]
  },
  {
   "cell_type": "code",
   "execution_count": 25,
   "metadata": {},
   "outputs": [
    {
     "name": "stdout",
     "output_type": "stream",
     "text": [
      "WMAE -  5818.31055115\n"
     ]
    }
   ],
   "source": [
    "X = defaultdict(list)\n",
    "y = defaultdict(list)\n",
    "for d in training:\n",
    "    store = str(d[0])\n",
    "    X[store].append(newer_feature(d))\n",
    "    y[store].append(float(d[3]))\n",
    "    \n",
    "theta = defaultdict(list)\n",
    "for store in X:\n",
    "    regr = LinearSVR(C=0.001, random_state = 0).fit(X[store],y[store])\n",
    "    theta[store] = regr.coef_\n",
    "\n",
    "X = defaultdict(list)\n",
    "y = defaultdict(list)\n",
    "for d in testing:\n",
    "    store = str(d[0])\n",
    "    X[store].append(newer_feature(d))\n",
    "    y[store].append(float(d[3]))\n",
    "\n",
    "sums = 0.0\n",
    "weight_sum = 0.0\n",
    "for store in X:\n",
    "    predictions = []\n",
    "    for i in range(len(X[store])):\n",
    "        predictions.append(np.dot(X[store][i], theta[store]))    \n",
    "    for i in range(len(X[store])):\n",
    "        sums += X[store][i][7]*(abs(y[store][i] - predictions[i]))\n",
    "        weight_sum+=X[store][i][7]\n",
    "    \n",
    "print \"WMAE - \", sums/weight_sum\n",
    "\n",
    "\"\"\"\n",
    "WMAE -  5367.310\n",
    "\"\"\""
   ]
  },
  {
   "cell_type": "code",
   "execution_count": 26,
   "metadata": {},
   "outputs": [
    {
     "name": "stdout",
     "output_type": "stream",
     "text": [
      "WMAE -  8901.88680406 Number of trees -  20\n"
     ]
    }
   ],
   "source": [
    "from sklearn.ensemble import RandomForestRegressor\n",
    "X = defaultdict(list)\n",
    "y = defaultdict(list)\n",
    "for d in training:\n",
    "    store = str(d[0])\n",
    "    X[store].append(newer_feature(d))\n",
    "    y[store].append(float(d[3]))\n",
    "    \n",
    "    \n",
    "theta = defaultdict(list)\n",
    "n_estimators = 20\n",
    "for store in X:\n",
    "    regr = RandomForestRegressor(n_estimators).fit(X[store], y[store])\n",
    "    theta[store] = regr.feature_importances_\n",
    "\n",
    "X = defaultdict(list)\n",
    "y = defaultdict(list)\n",
    "for d in testing:\n",
    "    store = str(d[0])\n",
    "    X[store].append(newer_feature(d))\n",
    "    y[store].append(float(d[3]))\n",
    "\n",
    "sums = 0.0\n",
    "weight_sum = 0.0\n",
    "for store in X:\n",
    "    predictions = []\n",
    "    for i in range(len(X[store])):\n",
    "        predictions.append(np.dot(X[store][i], theta[store]))    \n",
    "    for i in range(len(X[store])):\n",
    "        sums += X[store][i][7]*(abs(y[store][i] - predictions[i]))\n",
    "        weight_sum+=X[store][i][7]\n",
    "    \n",
    "print \"WMAE - \", sums/weight_sum, \"Number of trees - \", n_estimators\n",
    "\n",
    "\"\"\"\n",
    "WMAE -  8450.8680406 Number of trees -  20\n",
    "\"\"\""
   ]
  },
  {
   "cell_type": "markdown",
   "metadata": {},
   "source": [
    "# Yet Another Another Another Model"
   ]
  },
  {
   "cell_type": "code",
   "execution_count": 27,
   "metadata": {
    "collapsed": true
   },
   "outputs": [],
   "source": [
    "data = []\n",
    "with open(\"C:/Users/krish/Desktop/CSE 258/Assignment 2/train.csv\",\"rbU\") as csvfile:\n",
    "    reader = csv.reader(csvfile, delimiter=' ', quotechar='|')\n",
    "    firstrow = True\n",
    "    for row in reader:\n",
    "        if firstrow:\n",
    "            firstrow = False\n",
    "            continue\n",
    "        s = ''.join(row)\n",
    "        l = s.split(',')\n",
    "        l[3] = float(l[3])\n",
    "        l[2] = int(date_map[l[2]])\n",
    "        l[0] = int(l[0])\n",
    "        l[1] = int(l[1])\n",
    "        if l[4] == 'TRUE':\n",
    "            l[4] = True\n",
    "            weight = 5\n",
    "        elif l[4] == 'FALSE':\n",
    "            l[4] = False\n",
    "            weight = 1\n",
    "        l.append(weight)\n",
    "        data.append(l)\n",
    "\n",
    "data.sort(key=lambda x: x[2])\n",
    "size = (len(data))\n",
    "training = []\n",
    "testing = []\n",
    "for d in data:\n",
    "    if d[2] <=104:\n",
    "        training.append(d)\n",
    "    else:\n",
    "        testing.append(d)\n",
    "traindata = defaultdict(lambda:defaultdict(dict))\n",
    "for d in training:\n",
    "    traindata[d[0]][d[1]][d[2]] = d[3]"
   ]
  },
  {
   "cell_type": "code",
   "execution_count": 28,
   "metadata": {
    "collapsed": true
   },
   "outputs": [],
   "source": [
    "sum_sales_per_dept = defaultdict(float)\n",
    "count_sales_per_dept = defaultdict(float)\n",
    "for d in training:\n",
    "    dept = int(d[1])\n",
    "    sum_sales_per_dept[dept]+=float(d[3])\n",
    "    count_sales_per_dept[dept] += 1\n",
    "avg_sales_per_dept = defaultdict(float)\n",
    "for dept in sum_sales_per_dept:\n",
    "    avg_sales_per_dept[dept] = sum_sales_per_dept[dept]/count_sales_per_dept[dept]"
   ]
  },
  {
   "cell_type": "code",
   "execution_count": 29,
   "metadata": {
    "collapsed": true
   },
   "outputs": [],
   "source": [
    "sum_sales_per_store = defaultdict(float)\n",
    "count_sales_per_store = defaultdict(float)\n",
    "for d in training:\n",
    "    store = int(d[0])\n",
    "    sum_sales_per_store[store]+=float(d[3])\n",
    "    count_sales_per_store[store] += 1\n",
    "avg_sales_per_store = defaultdict(float)\n",
    "for store in sum_sales_per_store:\n",
    "    avg_sales_per_store[store] = sum_sales_per_store[store]/count_sales_per_store[store]"
   ]
  },
  {
   "cell_type": "code",
   "execution_count": 30,
   "metadata": {},
   "outputs": [
    {
     "name": "stdout",
     "output_type": "stream",
     "text": [
      "WMAE =  7814.4089192\n",
      "110267 5321\n"
     ]
    },
    {
     "data": {
      "text/plain": [
       "'\\nWMAE =  1988.71370856\\n'"
      ]
     },
     "execution_count": 30,
     "metadata": {},
     "output_type": "execute_result"
    }
   ],
   "source": [
    "sums = 0.0\n",
    "weight_sum = 0.0\n",
    "try_count = 0\n",
    "except_count = 0\n",
    "for d in testing:\n",
    "    store = d[0]\n",
    "    dept = d[1]\n",
    "    week = d[2]\n",
    "    try:\n",
    "        prediction = traindata[store][dept][int(week - 52)] + traindata[store][dept][int(week - 104)] / 2\n",
    "        try_count+=1\n",
    "    except:\n",
    "        prediction = avg_sales_per_dept[dept]\n",
    "        except_count+=1\n",
    "    error = abs(float(d[3] - prediction))\n",
    "    weight = d[5]\n",
    "    sums += weight*error\n",
    "    weight_sum += weight\n",
    "print \"WMAE = \", sums/weight_sum\n",
    "print try_count, except_count\n",
    "\n",
    "\"\"\"\n",
    "WMAE =  1988.71370856\n",
    "\"\"\""
   ]
  },
  {
   "cell_type": "code",
   "execution_count": 49,
   "metadata": {},
   "outputs": [
    {
     "name": "stdout",
     "output_type": "stream",
     "text": [
      "15971.5580065\n",
      "[21, 81, 'W41', 5481.94, False, 1]\n",
      "[3, 9, 'W133', 9157.57, False, 1]\n"
     ]
    }
   ],
   "source": [
    "data = []\n",
    "with open(\"C:/Users/krish/Desktop/CSE 258/Assignment 2/train.csv\",\"rbU\") as csvfile:\n",
    "    reader = csv.reader(csvfile, delimiter=' ', quotechar='|')\n",
    "    firstrow = True\n",
    "    for row in reader:\n",
    "        if firstrow:\n",
    "            firstrow = False\n",
    "            continue\n",
    "        s = ''.join(row)\n",
    "        l = s.split(',')\n",
    "        l[3] = float(l[3])\n",
    "        l[2] = \"W\" + str(date_map[l[2]])\n",
    "        l[0] = int(l[0])\n",
    "        l[1] = int(l[1])\n",
    "        if l[4] == 'TRUE':\n",
    "            l[4] = True\n",
    "            weight = 5\n",
    "        elif l[4] == 'FALSE':\n",
    "            l[4] = False\n",
    "            weight = 1\n",
    "        l.append(weight)\n",
    "        data.append(l)\n",
    "\n",
    "from random import shuffle\n",
    "shuffle(data)\n",
    "size = (len(data))\n",
    "training = data[:size/2]\n",
    "#validation = data[size/3:(2*size)/3]\n",
    "testing = data[(size)/2:]\n",
    "\n",
    "\n",
    "avg_sales = 0.0\n",
    "for d in training:\n",
    "    avg_sales+=float(d[3])\n",
    "avg_sales/=len(training)\n",
    "print avg_sales\n",
    "print training[0]\n",
    "print testing[0]"
   ]
  },
  {
   "cell_type": "markdown",
   "metadata": {},
   "source": [
    "# Trivial Predictor"
   ]
  },
  {
   "cell_type": "code",
   "execution_count": 50,
   "metadata": {},
   "outputs": [
    {
     "name": "stdout",
     "output_type": "stream",
     "text": [
      "15331.4619165\n"
     ]
    }
   ],
   "source": [
    "\n",
    "sums = 0.0\n",
    "weights_sum = 0.0\n",
    "for d in testing:\n",
    "    weight = float(d[5])\n",
    "    sums += weight*(abs(float(d[3]) - avg_sales))\n",
    "    weights_sum+=weight\n",
    "print sums/weights_sum\n",
    "    \n",
    "    "
   ]
  },
  {
   "cell_type": "code",
   "execution_count": 56,
   "metadata": {},
   "outputs": [
    {
     "data": {
      "image/png": "[encoded data removed]",
      "text/plain": [
       "<matplotlib.figure.Figure at 0x14f4db30>"
      ]
     },
     "metadata": {},
     "output_type": "display_data"
    }
   ],
   "source": [
    "import matplotlib.pyplot as plt\n",
    "objects = ('Simple\\nLinear\\nRegression', 'With\\nimproved\\ntheta', 'With\\nimproved\\nfeature\\nvector\\nand\\nimproved\\ntheta', 'Average\\nProduct\\nModel', 'Using\\nprevious\\nyear\\nsales')\n",
    "y_pos = np.arange(len(objects))\n",
    "results = [9304.87, 5811.96, 5539.63,  2404.50, 3367.86]\n",
    "plt.bar(y_pos, results, align='center', alpha=0.5, color = 'blue')\n",
    "plt.xticks(y_pos, objects)\n",
    "plt.ylabel(\"WMAE\")\n",
    "plt.show()\n"
   ]
  },
  {
   "cell_type": "code",
   "execution_count": 47,
   "metadata": {},
   "outputs": [
    {
     "data": {
      "image/png": "[encoded data removed]",
      "text/plain": [
       "<matplotlib.figure.Figure at 0x167c3f50>"
      ]
     },
     "metadata": {},
     "output_type": "display_data"
    }
   ],
   "source": [
    "import matplotlib.pyplot as plt\n",
    "objects = ('Simple\\nLinear\\nRegression', 'SVR', 'Random\\nForest\\nRegression', 'Gradient\\nBoosting\\nRegression')\n",
    "y_pos = np.arange(len(objects))\n",
    "results = [9382.87, 8899.12, 8437.19, 8335.61]\n",
    "plt.bar(y_pos, results, align='center', alpha=0.5, color = 'blue')\n",
    "plt.xticks(y_pos, objects)\n",
    "plt.ylabel(\"WMAE\")\n",
    "plt.show()\n"
   ]
  },
  {
   "cell_type": "code",
   "execution_count": null,
   "metadata": {
    "collapsed": true
   },
   "outputs": [],
   "source": []
  }
 ],
 "metadata": {
  "kernelspec": {
   "display_name": "Python 3",
   "language": "python",
   "name": "python3"
  },
  "language_info": {
   "codemirror_mode": {
    "name": "ipython",
    "version": 3
   },
   "file_extension": ".py",
   "mimetype": "text/x-python",
   "name": "python",
   "nbconvert_exporter": "python",
   "pygments_lexer": "ipython3",
   "version": "3.6.3"
  }
 },
 "nbformat": 4,
 "nbformat_minor": 2
}
